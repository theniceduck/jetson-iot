{
 "cells": [
  {
   "cell_type": "markdown",
   "metadata": {},
   "source": [
    "<h3>Ubibot Sensor Data Monitoring</h3>\n",
    "\n",
    "This notebook fetches sensor data from the Ubibot API and prints the latest values\n",
    "for temperature, humidity, and voltage.\n",
    "\n",
    "The script performs the following:\n",
    "1. Configures the Ubibot API URL using the `CHANNEL_ID` and `API_KEY`.\n",
    "2. Fetches sensor data from the API and extracts `Temperature`, `Humidity`, and `Voltage`.\n",
    "3. Continuously monitors the sensor data at one-second intervals.\n",
    "\n",
    "Make sure to replace `CHANNEL_ID` and `API_KEY` with your actual Ubibot credentials."
   ]
  },
  {
   "cell_type": "code",
   "execution_count": null,
   "metadata": {},
   "outputs": [],
   "source": [
    "!pip install requests"
   ]
  },
  {
   "cell_type": "markdown",
   "metadata": {},
   "source": [
    "Initial configuration:"
   ]
  },
  {
   "cell_type": "code",
   "execution_count": null,
   "metadata": {},
   "outputs": [],
   "source": [
    "import time\n",
    "import json\n",
    "import requests\n",
    "\n",
    "# Configuration\n",
    "CHANNEL_ID = 86828  # Replace with your Ubibot Channel ID\n",
    "API_KEY = \"608ecbcd79e64387b6e16f013c7fbe25\"  # Replace with your Ubibot API Key\n",
    "UBIBOT_URL = f\"https://webapi.ubibot.com/channels/{CHANNEL_ID}?api_key={API_KEY}\"\n",
    "\n",
    "# Sensor mapping\n",
    "sensor_names = {\n",
    "    \"field1\": \"Temperature\",\n",
    "    \"field2\": \"Humidity\",\n",
    "    \"field3\": \"Voltage\"\n",
    "}"
   ]
  },
  {
   "cell_type": "markdown",
   "metadata": {},
   "source": [
    "Fetch Latest Sensor Data:"
   ]
  },
  {
   "cell_type": "code",
   "execution_count": null,
   "metadata": {},
   "outputs": [],
   "source": [
    "def fetch_latest_sensor_data(url, sensor_names):\n",
    "    \"\"\"\n",
    "    Fetches the latest sensor data from the Ubibot API.\n",
    "    \n",
    "    Args:\n",
    "        url (str): Ubibot API endpoint.\n",
    "        sensor_names (dict): Mapping of field names to sensor names.\n",
    "    \n",
    "    Returns:\n",
    "        dict: Latest sensor values with corresponding sensor names.\n",
    "    \"\"\"\n",
    "    try:\n",
    "        response = requests.request(\"GET\", url, timeout=5)\n",
    "        if response.status_code == 200:\n",
    "            data = response.json()\n",
    "            last_values_string = data['channel']['last_values']\n",
    "            last_values = json.loads(last_values_string)\n",
    "            \n",
    "            sensor_data = {}\n",
    "            for field, value in last_values.items():\n",
    "                if field in sensor_names:\n",
    "                    sensor_data[sensor_names[field]] = value['value']\n",
    "            return sensor_data\n",
    "        else:\n",
    "            print(f\"Failed to fetch data: {response.status_code}\")\n",
    "            print(f\"Response: {response.text}\")\n",
    "            return None\n",
    "    except requests.exceptions.Timeout as e:\n",
    "        print(f\"Request timed out: {e}\")\n",
    "    except json.JSONDecodeError as e:\n",
    "        print(f\"Failed to decode JSON: {e}\")\n",
    "    except KeyError as e:\n",
    "        print(f\"Failed to extract data: {e}\")\n",
    "    except ValueError as e:\n",
    "        print(f\"Failed to extract data: {e}\")\n",
    "    return None\n",
    "\n",
    "# Test the function\n",
    "sensor_data = fetch_latest_sensor_data(UBIBOT_URL, sensor_names)\n",
    "if sensor_data:\n",
    "    print(\"Latest Sensor Data:\")\n",
    "    for sensor, value in sensor_data.items():\n",
    "        print(f\"{sensor}: {value}\")"
   ]
  },
  {
   "cell_type": "markdown",
   "metadata": {},
   "source": [
    "Continuous Monitoring:"
   ]
  },
  {
   "cell_type": "code",
   "execution_count": null,
   "metadata": {},
   "outputs": [],
   "source": [
    "def monitor_sensors(url, sensor_names, interval=1):\n",
    "    \"\"\"\n",
    "    Continuously monitors the sensor data at regular intervals.\n",
    "    \n",
    "    Args:\n",
    "        url (str): Ubibot API endpoint.\n",
    "        sensor_names (dict): Mapping of field names to sensor names.\n",
    "        interval (int): Time interval (in seconds) between requests.\n",
    "    \"\"\"\n",
    "    try:\n",
    "        while True:\n",
    "            sensor_data = fetch_latest_sensor_data(url, sensor_names)\n",
    "            if sensor_data:\n",
    "                print(\"Sensor Data at\", time.ctime())\n",
    "                for sensor, value in sensor_data.items():\n",
    "                    print(f\"{sensor}: {value}\")\n",
    "                print()\n",
    "            time.sleep(interval)\n",
    "    except KeyboardInterrupt:\n",
    "        print(\"Monitoring interrupted by user.\")\n",
    "\n",
    "monitor_sensors(UBIBOT_URL, sensor_names)"
   ]
  }
 ],
 "metadata": {
  "language_info": {
   "name": "python"
  }
 },
 "nbformat": 4,
 "nbformat_minor": 2
}
