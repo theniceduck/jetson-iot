{
 "cells": [
  {
   "cell_type": "markdown",
   "id": "18be067d-a7ae-442d-8506-81fb46a6252d",
   "metadata": {},
   "source": [
    "<h3><b>Using Arduino Command Line Interface (Arduino CLI)</b></h3>"
   ]
  },
  {
   "cell_type": "markdown",
   "id": "fd6b3caa-9230-42cd-8391-be065552bd94",
   "metadata": {},
   "source": [
    "Install necessary libraries:"
   ]
  },
  {
   "cell_type": "code",
   "execution_count": null,
   "id": "387055bb-9079-4e73-b25f-6a5c242e9389",
   "metadata": {},
   "outputs": [],
   "source": [
    "!pip install pyserial\n",
    "!arduino-cli lib install \"Blynk\"\n",
    "!arduino-cli lib install \"ESP8266 Influxdb\"\n",
    "!arduino-cli lib install \"DHT sensor library\""
   ]
  },
  {
   "cell_type": "markdown",
   "id": "fb54bbad-9ca5-4445-985a-858fe5ccfff3",
   "metadata": {},
   "source": [
    "List the libraries to check:"
   ]
  },
  {
   "cell_type": "code",
   "execution_count": null,
   "id": "f0ede8d6-8cf7-41bb-930d-7925ff0155c2",
   "metadata": {},
   "outputs": [],
   "source": [
    "!arduino-cli lib list"
   ]
  },
  {
   "cell_type": "markdown",
   "id": "9551d4d3",
   "metadata": {},
   "source": [
    "Install esp32 board:"
   ]
  },
  {
   "cell_type": "code",
   "execution_count": null,
   "id": "7ea6b72c",
   "metadata": {},
   "outputs": [],
   "source": [
    "!arduino-cli core install esp32:esp32"
   ]
  },
  {
   "cell_type": "markdown",
   "id": "21e518b2-0c02-49d9-bf7c-30dd3db8b177",
   "metadata": {},
   "source": [
    "<h6>The following cells is used to create, update, compile, and upload sketch using Arduino CLI</h6>"
   ]
  },
  {
   "cell_type": "markdown",
   "id": "7a4f4b25-59b6-4fa8-ba72-44fbcc66a9ac",
   "metadata": {},
   "source": [
    "Compile sketch here:"
   ]
  },
  {
   "cell_type": "code",
   "execution_count": null,
   "id": "ca46ed88-8606-4d7f-8ae7-5824459ed6ca",
   "metadata": {},
   "outputs": [],
   "source": [
    "!arduino-cli compile --fqbn esp32:esp32:esp32 /home/jovyan/work/esp32/esp32/esp32.ino"
   ]
  },
  {
   "cell_type": "markdown",
   "id": "88a70323-7a8e-4339-8591-54429fdc9d5f",
   "metadata": {},
   "source": [
    "Upload sketch here:"
   ]
  },
  {
   "cell_type": "code",
   "execution_count": null,
   "id": "b733d681-82f0-45ac-aad5-da0cd4e11b49",
   "metadata": {},
   "outputs": [],
   "source": [
    "!arduino-cli upload -p /dev/ttyUSB0 --fqbn esp32:esp32:esp32 /home/jovyan/work/esp32/esp32/esp32.ino"
   ]
  },
  {
   "cell_type": "markdown",
   "id": "074394ae-cbb5-4794-980e-cd485a9380fc",
   "metadata": {},
   "source": [
    "<h6>The following cells is used to output serial monitor</h6>"
   ]
  },
  {
   "cell_type": "markdown",
   "id": "98c87abf-28ad-4e5a-8b43-0d3058d136c9",
   "metadata": {},
   "source": [
    "Run 'screen':"
   ]
  },
  {
   "cell_type": "code",
   "execution_count": null,
   "id": "0a17f921-14fe-48d8-84ce-73ca699bf007",
   "metadata": {},
   "outputs": [],
   "source": [
    "!screen /dev/ttyUSB0 115200"
   ]
  },
  {
   "cell_type": "markdown",
   "id": "7b6f1dc6-6189-40c5-bf9b-3646c4504d3a",
   "metadata": {},
   "source": [
    "Run the following cell to close the screen:"
   ]
  },
  {
   "cell_type": "code",
   "execution_count": null,
   "id": "7dbc82df-fd5f-498c-8775-d1329d544297",
   "metadata": {},
   "outputs": [],
   "source": [
    "import subprocess\n",
    "\n",
    "# Get a list of screen session IDs\n",
    "try:\n",
    "    result = subprocess.run(\n",
    "        [\"screen\", \"-ls\"],\n",
    "        capture_output=True,\n",
    "        text=True,\n",
    "        check=True\n",
    "    )\n",
    "\n",
    "    # Parse the output to extract session IDs\n",
    "    session_ids = []\n",
    "    for line in result.stdout.splitlines():\n",
    "        # Only include lines with valid session IDs\n",
    "        if '.' in line and 'Socket' not in line:\n",
    "            session_id = line.split('.')[0].strip()  # Get the session ID\n",
    "            session_ids.append(session_id)\n",
    "\n",
    "    # Check if there are any session IDs to kill\n",
    "    if not session_ids:\n",
    "        print(\"No screen session found.\")\n",
    "    else:\n",
    "        # Kill each session\n",
    "        for session_id in session_ids:\n",
    "            print(f\"Killing session: {session_id}\")  # For debugging\n",
    "            subprocess.run([\"screen\", \"-S\", session_id, \"-X\", \"quit\"], check=True)\n",
    "\n",
    "except subprocess.CalledProcessError as e:\n",
    "    print(f\"An error occurred: {e}\")"
   ]
  },
  {
   "cell_type": "markdown",
   "id": "69e4f1ea-3378-4273-be44-9205da0a5619",
   "metadata": {},
   "source": [
    "Run the following cell to check if 'screen' is still running or not:"
   ]
  },
  {
   "cell_type": "code",
   "execution_count": null,
   "id": "b92f271d-a5ff-4465-9a8b-38512fd9c365",
   "metadata": {},
   "outputs": [],
   "source": [
    "!screen -ls"
   ]
  },
  {
   "cell_type": "markdown",
   "id": "56eb23a8-b794-4a58-961e-8073a5320325",
   "metadata": {},
   "source": [
    "End"
   ]
  },
  {
   "cell_type": "code",
   "execution_count": null,
   "id": "10240785-7030-4bc8-b61c-07c7ecea73cf",
   "metadata": {},
   "outputs": [],
   "source": []
  }
 ],
 "metadata": {
  "kernelspec": {
   "display_name": "Python 3 (ipykernel)",
   "language": "python",
   "name": "python3"
  },
  "language_info": {
   "codemirror_mode": {
    "name": "ipython",
    "version": 3
   },
   "file_extension": ".py",
   "mimetype": "text/x-python",
   "name": "python",
   "nbconvert_exporter": "python",
   "pygments_lexer": "ipython3",
   "version": "3.12.7"
  }
 },
 "nbformat": 4,
 "nbformat_minor": 5
}
