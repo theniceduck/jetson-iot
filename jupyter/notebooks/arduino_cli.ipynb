{
 "cells": [
  {
   "cell_type": "markdown",
   "id": "18be067d-a7ae-442d-8506-81fb46a6252d",
   "metadata": {},
   "source": [
    "<h3><b>Using Arduino Command Line Interface (Arduino CLI)</b></h3>"
   ]
  },
  {
   "cell_type": "markdown",
   "id": "54aadc03-0265-4038-a588-34fc2bbe8bd4",
   "metadata": {},
   "source": [
    "Install Arduino CLI:\n",
    "1. Go to https://www.arduino.cc/en/software.\n",
    "2. Scroll down to 'Arduino CLI' and click 'Download CLI'.\n",
    "3. In the Github releases page, scroll down and click 'arduino-cli_1.0.4_Linux_ARM64.tar.gz'. It will auto-download the .tar.gz file.\n",
    "4. Run the following in a terminal."
   ]
  },
  {
   "cell_type": "raw",
   "id": "482afda3-e586-4739-a13c-666f88e8d502",
   "metadata": {},
   "source": [
    "# Change to the directory where the .tar.gz file is located\n",
    "cd /home/jetson-gmi/Downloads\n",
    "\n",
    "# Extract the contents of the Arduino CLI tar.gz archive\n",
    "tar -xzf arduino-cli_1.0.4_Linux_ARM64.tar.gz\n",
    "\n",
    "# Move the extracted Arduino CLI binary to /usr/local/bin for global access\n",
    "sudo mv arduino-cli /usr/local/bin/\n",
    "\n",
    "# Initialize the Arduino CLI configuration file in the default location\n",
    "arduino-cli config init"
   ]
  },
  {
   "cell_type": "markdown",
   "id": "b2b2f72e-e13f-45b2-ba30-12271d8df7ba",
   "metadata": {},
   "source": [
    "Run the following cell to add additional urls to Arduino:"
   ]
  },
  {
   "cell_type": "raw",
   "id": "ec53989b-594e-4fed-9780-f2261ca6bce2",
   "metadata": {},
   "source": [
    "# Define the YAML string\n",
    "arduino_cli_yaml = \"\"\"\n",
    "board_manager:\n",
    "  additional_urls:\n",
    "    - https://dl.espressif.com/dl/package_esp32_index.json\n",
    "    - http://arduino.esp8266.com/stable/package_esp8266com_index.json\n",
    "\"\"\"\n",
    "\n",
    "# Define the path for the YAML file\n",
    "yaml_file_path = \"/home/jetson-gmi/.arduino15/arduino-cli.yaml\"  # Update this path as needed\n",
    "\n",
    "# Write the YAML string to a file\n",
    "with open(yaml_file_path, \"w\") as file:\n",
    "    file.write(arduino_cli_yaml)\n",
    "\n",
    "print(\"YAML file updated successfully.\")"
   ]
  },
  {
   "cell_type": "markdown",
   "id": "fd6b3caa-9230-42cd-8391-be065552bd94",
   "metadata": {},
   "source": [
    "Install necessary libraries:"
   ]
  },
  {
   "cell_type": "raw",
   "id": "387055bb-9079-4e73-b25f-6a5c242e9389",
   "metadata": {},
   "source": [
    "!arduino-cli lib install \"Blynk\"\n",
    "!arduino-cli lib install \"ESP8266 Influxdb\""
   ]
  },
  {
   "cell_type": "markdown",
   "id": "fb54bbad-9ca5-4445-985a-858fe5ccfff3",
   "metadata": {},
   "source": [
    "List the libraries to check:"
   ]
  },
  {
   "cell_type": "raw",
   "id": "f0ede8d6-8cf7-41bb-930d-7925ff0155c2",
   "metadata": {},
   "source": [
    "!arduino-cli lib list"
   ]
  },
  {
   "cell_type": "markdown",
   "id": "21e518b2-0c02-49d9-bf7c-30dd3db8b177",
   "metadata": {},
   "source": [
    "<h6>The following cells is used to create, update, compile, and upload sketch using Arduino CLI</h6>"
   ]
  },
  {
   "cell_type": "markdown",
   "id": "ca9ddd6a-e70e-4e78-93ea-5bcfffb34815",
   "metadata": {},
   "source": [
    "Update sketch here:"
   ]
  },
  {
   "cell_type": "raw",
   "id": "aba4136a-87c0-4bff-941c-e27e36869fab",
   "metadata": {},
   "source": [
    "# Define the full sketch code as a Python multi-line string\n",
    "sketch_code = \"\"\"\\\n",
    "#define BLYNK_TEMPLATE_ID \"TMPL6vLXhjgbd\"\n",
    "#define BLYNK_TEMPLATE_NAME \"Test2\"\n",
    "#define BLYNK_AUTH_TOKEN \"Ew1Xv6OxvjPvyvtg_uqUhlfbQQE8TVgL\"\n",
    "\n",
    "#include <BlynkSimpleEsp32.h>\n",
    "#include <WiFi.h>\n",
    "#include <WebServer.h>\n",
    "#include <DHT.h>\n",
    "#include <InfluxDbClient.h>\n",
    "\n",
    "DHT dht(5, DHT11);\n",
    "unsigned long startTime;\n",
    "\n",
    "#define INFLUXDB_URL \"http://192.168.0.121:8086\"\n",
    "#define INFLUXDB_TOKEN \"sKrQSAbkAoeVhRbrjTbdlWWNq2wsAAtjbwFbWEmFFzwxJyU2z47a2_zmg9odTBctDNlwQaoJLGqOKXTH58_VSg==\"\n",
    "#define INFLUXDB_ORG \"cairo\"\n",
    "#define INFLUXDB_BUCKET \"bucket1\"\n",
    "\n",
    "InfluxDBClient client(INFLUXDB_URL, INFLUXDB_ORG, INFLUXDB_BUCKET, INFLUXDB_TOKEN);\n",
    "Point sensor(\"dht_sensor\");\n",
    "\n",
    "WebServer server(80);\n",
    "\n",
    "unsigned long previousMillis = 0;\n",
    "const long interval = 10000;\n",
    "\n",
    "void setup() {\n",
    "  // put your setup code here, to run once:\n",
    "  Serial.begin(115200);\n",
    "  \n",
    "  dht.begin();\n",
    "\n",
    "  WiFi.begin(\"Cairo-Dlink\", \"cairobawah123\");\n",
    "    while (WiFi.status() != WL_CONNECTED) {\n",
    "        delay(1000);\n",
    "        Serial.println(\"Connecting to WiFi...\");\n",
    "    }\n",
    "    Serial.println(\"Connected to WiFi\");\n",
    "\n",
    "  Blynk.begin(BLYNK_AUTH_TOKEN, \"Cairo-Dlink\", \"cairobawah123\");\n",
    "  pinMode(2, OUTPUT);\n",
    "\n",
    "  sensor.addTag(\"device\", \"ESP32\");\n",
    "  if (client.validateConnection()) {\n",
    "      Serial.println(\"Connected to InfluxDB\");\n",
    "  } else {\n",
    "      Serial.print(\"InfluxDB connection failed: \");\n",
    "      Serial.println(client.getLastErrorMessage());\n",
    "  }\n",
    "\n",
    "  server.on(\"/getdata\", getData);  // Route for handling root\n",
    "  server.on(\"/ledon\", ledOn);\n",
    "  server.on(\"/ledoff\", ledOff);\n",
    "  server.begin();\n",
    "\n",
    "}\n",
    "\n",
    "void loop() {\n",
    "  // put your main code here, to run repeatedly:\n",
    "  Blynk.run();\n",
    "\n",
    "  server.handleClient();\n",
    "    \n",
    "  unsigned long currentMillis = millis();\n",
    "    if (currentMillis - previousMillis >= interval) {\n",
    "      previousMillis = currentMillis;\n",
    "\n",
    "    Serial.print(\"ESP32 IP Address: \");\n",
    "    Serial.println(WiFi.localIP());\n",
    "    \n",
    "    Blynk.virtualWrite(V0, getElapsedTime());\n",
    "    Blynk.virtualWrite(V2, getTemperature());\n",
    "    Blynk.virtualWrite(V3, getHumidity());\n",
    "    int ledState = getLedState();\n",
    "    Serial.print(\"LED state: \");\n",
    "    Serial.println(ledState);\n",
    "\n",
    "    Serial.print(\"Temp: \");\n",
    "    Serial.println(getTemperature());\n",
    "    Serial.print(\"Hum: \");\n",
    "    Serial.println(getHumidity());\n",
    "    Serial.print(\"Time: \");\n",
    "    Serial.println(getElapsedTime());\n",
    "\n",
    "    Serial.println(\"Data written to Blynk\");\n",
    "\n",
    "    sensor.clearFields();\n",
    "    sensor.addField(\"temperature\", getTemperature());\n",
    "    sensor.addField(\"humidity\", getHumidity());\n",
    "    sensor.addField(\"elapsed_time\", getElapsedTime());\n",
    "\n",
    "    if (!client.writePoint(sensor)) {\n",
    "      Serial.print(\"InfluxDB write failed: \");\n",
    "      Serial.println(client.getLastErrorMessage());\n",
    "    } else {\n",
    "      Serial.println(\"Data written to InfluxDB\");\n",
    "    }\n",
    "  }\n",
    "}\n",
    "\n",
    "float getTemperature() {\n",
    "    float temp = dht.readTemperature();\n",
    "    if (isnan(temp)) {\n",
    "        Serial.println(\"Failed to read temperature!\");\n",
    "    }\n",
    "    return temp;\n",
    "}\n",
    "\n",
    "float getHumidity() {\n",
    "    float hum = dht.readHumidity();\n",
    "    if (isnan(hum)) {\n",
    "        Serial.println(\"Failed to read humidity!\");\n",
    "    }\n",
    "    return hum;\n",
    "}\n",
    "\n",
    "float getElapsedTime() {\n",
    "    return (millis() - startTime) / 3600000.0;\n",
    "}\n",
    "\n",
    "int getLedState() {\n",
    "    return digitalRead(2);\n",
    "}\n",
    "\n",
    "BLYNK_WRITE(V1) {\n",
    "    int ledState = param.asInt();\n",
    "    digitalWrite(2, ledState);\n",
    "    Serial.print(\"LED state changed to: \");\n",
    "    Serial.println(ledState);\n",
    "}\n",
    "\n",
    "void getData() {\n",
    "    String message = \"ESP32 Sensor Data:\\\\n\";\n",
    "    message += \"Temperature: \" + String(getTemperature()) + \"°C\\\\n\";\n",
    "    message += \"Humidity: \" + String(getHumidity()) + \"%\\\\n\";\n",
    "    message += \"Elapsed Time: \" + String(getElapsedTime()) + \" hrs\\\\n\";\n",
    "    message += \"LED State: \" + String(getLedState()) + \"\\\\n\";\n",
    "    server.send(200, \"text/plain; charset=utf-8\", message);\n",
    "}\n",
    "\n",
    "void ledOn() {\n",
    "    digitalWrite(2, HIGH);\n",
    "    server.send(200, \"text/plain\", \"Pin is ON\");\n",
    "}\n",
    "\n",
    "void ledOff() {\n",
    "    digitalWrite(2, LOW);\n",
    "    server.send(200, \"text/plain\", \"Pin is OFF\");\n",
    "}\n",
    "\"\"\""
   ]
  },
  {
   "cell_type": "raw",
   "id": "970f5545-0680-46a0-9908-b7c019a9905f",
   "metadata": {},
   "source": [
    "# Define the correct path to your sketch file\n",
    "sketch_path = \"/home/jetson-gmi/Desktop/Ikmal/cli_test/cli_test.ino\"\n",
    "\n",
    "# Attempt to write the code to the .ino file\n",
    "try:\n",
    "    with open(sketch_path, \"w\") as file:\n",
    "        file.write(sketch_code)\n",
    "    print(\"Overwrite successful.\")\n",
    "except Exception as e:\n",
    "    print(f\"Failed to overwrite the file: {e}\")"
   ]
  },
  {
   "cell_type": "markdown",
   "id": "4b046e00-7829-4b58-9e24-612524290731",
   "metadata": {},
   "source": [
    "You can see the updated sketch content here:"
   ]
  },
  {
   "cell_type": "raw",
   "id": "46de9cdf-c81b-47b0-a53c-8e49fff78a0f",
   "metadata": {},
   "source": [
    "with open(sketch_path, \"r\") as file:\n",
    "    content = file.read()\n",
    "    print(\"File content:\")\n",
    "    print(content)"
   ]
  },
  {
   "cell_type": "markdown",
   "id": "7a4f4b25-59b6-4fa8-ba72-44fbcc66a9ac",
   "metadata": {},
   "source": [
    "Compile sketch here:"
   ]
  },
  {
   "cell_type": "raw",
   "id": "ca46ed88-8606-4d7f-8ae7-5824459ed6ca",
   "metadata": {},
   "source": [
    "!arduino-cli compile --fqbn esp32:esp32:esp32 /home/jetson-gmi/Desktop/Ikmal/cli_test/cli_test.ino"
   ]
  },
  {
   "cell_type": "markdown",
   "id": "88a70323-7a8e-4339-8591-54429fdc9d5f",
   "metadata": {},
   "source": [
    "Upload sketch here:"
   ]
  },
  {
   "cell_type": "raw",
   "id": "b733d681-82f0-45ac-aad5-da0cd4e11b49",
   "metadata": {},
   "source": [
    "!arduino-cli upload -p /dev/ttyUSB0 --fqbn esp32:esp32:esp32 /home/jetson-gmi/Desktop/Ikmal/cli_test/cli_test.ino"
   ]
  },
  {
   "cell_type": "markdown",
   "id": "074394ae-cbb5-4794-980e-cd485a9380fc",
   "metadata": {},
   "source": [
    "<h6>The following cells is used to output serial monitor</h6>"
   ]
  },
  {
   "cell_type": "markdown",
   "id": "25699fba-28e0-4a32-af0b-dbb7625e327b",
   "metadata": {},
   "source": [
    "Install 'screen' to output the monitor:"
   ]
  },
  {
   "cell_type": "raw",
   "id": "69268b08-63dd-4d57-99cb-f8dde96bace4",
   "metadata": {},
   "source": [
    "!sudo -S apt-get install screen < /home/jetson-gmi/Desktop/Ikmal/jetsonpass"
   ]
  },
  {
   "cell_type": "markdown",
   "id": "98c87abf-28ad-4e5a-8b43-0d3058d136c9",
   "metadata": {},
   "source": [
    "Run 'screen':"
   ]
  },
  {
   "cell_type": "raw",
   "id": "0a17f921-14fe-48d8-84ce-73ca699bf007",
   "metadata": {},
   "source": [
    "!screen /dev/ttyUSB0 115200"
   ]
  },
  {
   "cell_type": "markdown",
   "id": "7b6f1dc6-6189-40c5-bf9b-3646c4504d3a",
   "metadata": {},
   "source": [
    "Run the following cell to close the screen:"
   ]
  },
  {
   "cell_type": "raw",
   "id": "7dbc82df-fd5f-498c-8775-d1329d544297",
   "metadata": {},
   "source": [
    "import subprocess\n",
    "\n",
    "# Get a list of screen session IDs\n",
    "try:\n",
    "    result = subprocess.run(\n",
    "        [\"screen\", \"-ls\"],\n",
    "        capture_output=True,\n",
    "        text=True,\n",
    "        check=True\n",
    "    )\n",
    "\n",
    "    # Parse the output to extract session IDs\n",
    "    session_ids = []\n",
    "    for line in result.stdout.splitlines():\n",
    "        # Only include lines with valid session IDs\n",
    "        if '.' in line and 'Socket' not in line:\n",
    "            session_id = line.split('.')[0].strip()  # Get the session ID\n",
    "            session_ids.append(session_id)\n",
    "\n",
    "    # Check if there are any session IDs to kill\n",
    "    if not session_ids:\n",
    "        print(\"No screen session found.\")\n",
    "    else:\n",
    "        # Kill each session\n",
    "        for session_id in session_ids:\n",
    "            print(f\"Killing session: {session_id}\")  # For debugging\n",
    "            subprocess.run([\"screen\", \"-S\", session_id, \"-X\", \"quit\"], check=True)\n",
    "\n",
    "except subprocess.CalledProcessError as e:\n",
    "    print(f\"An error occurred: {e}\")"
   ]
  },
  {
   "cell_type": "markdown",
   "id": "69e4f1ea-3378-4273-be44-9205da0a5619",
   "metadata": {},
   "source": [
    "Run the following cell to check if 'screen' is still running or not:"
   ]
  },
  {
   "cell_type": "raw",
   "id": "b92f271d-a5ff-4465-9a8b-38512fd9c365",
   "metadata": {},
   "source": [
    "!screen -ls"
   ]
  },
  {
   "cell_type": "markdown",
   "id": "56eb23a8-b794-4a58-961e-8073a5320325",
   "metadata": {},
   "source": [
    "End"
   ]
  },
  {
   "cell_type": "code",
   "execution_count": null,
   "id": "10240785-7030-4bc8-b61c-07c7ecea73cf",
   "metadata": {},
   "outputs": [],
   "source": []
  }
 ],
 "metadata": {
  "kernelspec": {
   "display_name": "Python 3 (ipykernel)",
   "language": "python",
   "name": "python3"
  },
  "language_info": {
   "codemirror_mode": {
    "name": "ipython",
    "version": 3
   },
   "file_extension": ".py",
   "mimetype": "text/x-python",
   "name": "python",
   "nbconvert_exporter": "python",
   "pygments_lexer": "ipython3",
   "version": "3.12.7"
  }
 },
 "nbformat": 4,
 "nbformat_minor": 5
}
