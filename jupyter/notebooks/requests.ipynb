{
 "cells": [
  {
   "cell_type": "code",
   "execution_count": 3,
   "id": "71626fa0-8a6d-4830-a322-ce06c6ca34a1",
   "metadata": {},
   "outputs": [
    {
     "name": "stdout",
     "output_type": "stream",
     "text": [
      "Connection successful!\n",
      "Response: Pin is OFF\n"
     ]
    }
   ],
   "source": [
    "import requests\n",
    "\n",
    "esp_ip = \"http://192.168.0.160:80/getdata\"  # Replace with actual IP of your ESP\n",
    "response = requests.get(esp_ip)\n",
    "\n",
    "if response.status_code == 200:\n",
    "    print(\"Connection successful!\")\n",
    "    # Decode the response text with UTF-8 to handle special characters like °C correctly\n",
    "    response_text = response.content.decode('utf-8')\n",
    "    print(\"Response:\", response_text)\n",
    "else:\n",
    "    print(\"Failed to connect, status code:\", response.status_code)\n"
   ]
  },
  {
   "cell_type": "code",
   "execution_count": 7,
   "id": "02a166d7-d6e8-442a-9422-b514e41c6865",
   "metadata": {},
   "outputs": [
    {
     "name": "stdout",
     "output_type": "stream",
     "text": [
      "Connection successful!\n",
      "LED is turned ON\n"
     ]
    }
   ],
   "source": [
    "import requests\n",
    "\n",
    "esp_ip = \"http://192.168.0.131:80/ledon\"  # Replace with actual IP of your ESP\n",
    "try:\n",
    "    response = requests.get(esp_ip, timeout=10)  # Set a timeout of 10 seconds\n",
    "    if response.status_code == 200:\n",
    "        print(\"Connection successful!\")\n",
    "        print(\"LED is turned ON\")\n",
    "    else:\n",
    "        print(f\"Failed to connect, status code: {response.status_code}\")\n",
    "except requests.exceptions.Timeout:\n",
    "    print(\"The request timed out.\")\n",
    "except requests.exceptions.RequestException as e:\n",
    "    print(f\"An error occurred: {e}\")"
   ]
  },
  {
   "cell_type": "code",
   "execution_count": 8,
   "id": "6d771d85-803f-4e50-a456-fcd563d615da",
   "metadata": {},
   "outputs": [
    {
     "name": "stdout",
     "output_type": "stream",
     "text": [
      "Connection successful!\n",
      "LED is turned OFF\n"
     ]
    }
   ],
   "source": [
    "import requests\n",
    "\n",
    "esp_ip = \"http://192.168.0.131:80/ledoff\"  # Replace with actual IP of your ESP\n",
    "try:\n",
    "    response = requests.get(esp_ip, timeout=10)  # Set a timeout of 10 seconds\n",
    "    if response.status_code == 200:\n",
    "        print(\"Connection successful!\")\n",
    "        print(\"LED is turned OFF\")\n",
    "    else:\n",
    "        print(f\"Failed to connect, status code: {response.status_code}\")\n",
    "except requests.exceptions.Timeout:\n",
    "    print(\"The request timed out.\")\n",
    "except requests.exceptions.RequestException as e:\n",
    "    print(f\"An error occurred: {e}\")"
   ]
  },
  {
   "cell_type": "code",
   "execution_count": null,
   "id": "7aaa878b",
   "metadata": {},
   "outputs": [],
   "source": [
    "import requests\n",
    "\n",
    "esp_ip = \"http://192.168.0.131:80/buzzeron\"  # Replace with actual IP of your ESP\n",
    "try:\n",
    "    response = requests.get(esp_ip, timeout=10)  # Set a timeout of 10 seconds\n",
    "    if response.status_code == 200:\n",
    "        print(\"Connection successful!\")\n",
    "        print(\"Buzzer is turned ON\")\n",
    "    else:\n",
    "        print(f\"Failed to connect, status code: {response.status_code}\")\n",
    "except requests.exceptions.Timeout:\n",
    "    print(\"The request timed out.\")\n",
    "except requests.exceptions.RequestException as e:\n",
    "    print(f\"An error occurred: {e}\")"
   ]
  },
  {
   "cell_type": "code",
   "execution_count": null,
   "id": "aaed9cf6",
   "metadata": {},
   "outputs": [],
   "source": [
    "import requests\n",
    "\n",
    "esp_ip = \"http://192.168.0.131:80/buzzeroff\"  # Replace with actual IP of your ESP\n",
    "try:\n",
    "    response = requests.get(esp_ip, timeout=10)  # Set a timeout of 10 seconds\n",
    "    if response.status_code == 200:\n",
    "        print(\"Connection successful!\")\n",
    "        print(\"Buzzer is turned OFF\")\n",
    "    else:\n",
    "        print(f\"Failed to connect, status code: {response.status_code}\")\n",
    "except requests.exceptions.Timeout:\n",
    "    print(\"The request timed out.\")\n",
    "except requests.exceptions.RequestException as e:\n",
    "    print(f\"An error occurred: {e}\")"
   ]
  },
  {
   "cell_type": "code",
   "execution_count": 8,
   "id": "179aa9d7-6c09-472c-805c-2422c40ad736",
   "metadata": {},
   "outputs": [
    {
     "name": "stdout",
     "output_type": "stream",
     "text": [
      "Enter the number of last measurements to analyze:  50\n"
     ]
    },
    {
     "name": "stdout",
     "output_type": "stream",
     "text": [
      "Mean Temperature: 24.274657534246575\n",
      "Median Temperature: 24.1\n",
      "Variance Temperature: 0.059767923551287246\n",
      "Standard Deviation Temperature: 0.24447479123886628\n",
      "Harmonic Mean: 24.27222664917671\n",
      "Median Low: 24.1\n",
      "Median High: 24.1\n",
      "Geometric Mean: 24.273438283892443\n"
     ]
    }
   ],
   "source": [
    "from influxdb_client import InfluxDBClient\n",
    "from influxdb_client.client.write_api import SYNCHRONOUS\n",
    "import statistics\n",
    "\n",
    "bucket = \"bucket1\"\n",
    "org = \"cairo\"\n",
    "token = \"sKrQSAbkAoeVhRbrjTbdlWWNq2wsAAtjbwFbWEmFFzwxJyU2z47a2_zmg9odTBctDNlwQaoJLGqOKXTH58_VSg==\"\n",
    "url = \"http://localhost:8086\"\n",
    "\n",
    "client = InfluxDBClient(url=url, token=token, org=org)\n",
    "\n",
    "# Function to query the last 'num_measurements' data points and perform data analysis\n",
    "def query_and_analyze_last_measurements(num_measurements):\n",
    "    query_api = client.query_api()\n",
    "    query = f'''\n",
    "        from(bucket: \"{bucket}\")\n",
    "          |> range(start: -{num_measurements}m)\n",
    "          |> filter(fn:(r) => r._measurement == \"dht_sensor\")\n",
    "          |> filter(fn:(r) => r._field == \"temperature\")\n",
    "    '''\n",
    "\n",
    "    result = query_api.query(query=query)\n",
    "    temperature_values = []\n",
    "\n",
    "    for table in result:\n",
    "        for record in table.records:\n",
    "            temperature_values.append(record.get_value())\n",
    "\n",
    "    mean_temperature = statistics.mean(temperature_values)\n",
    "    median_temperature = statistics.median(temperature_values)\n",
    "    variance_temperature = statistics.variance(temperature_values)\n",
    "    stdev_temperature = statistics.stdev(temperature_values)\n",
    "    harmonic_mean_value = statistics.harmonic_mean(temperature_values)\n",
    "    median_low_value = statistics.median_low(temperature_values)\n",
    "    median_high_value = statistics.median_high(temperature_values)\n",
    "    geometric_mean_value = statistics.geometric_mean(temperature_values)\n",
    "    # Add more data analysis calculations as needed\n",
    "\n",
    "    return mean_temperature, median_temperature, variance_temperature, stdev_temperature, harmonic_mean_value, median_low_value, median_high_value, geometric_mean_value\n",
    "\n",
    "# Prompt the user to enter the number of last measurements to analyze\n",
    "num_measurements = int(input(\"Enter the number of last measurements to analyze: \"))\n",
    "\n",
    "mean_temp, median_temp, variance_temp, stdev_temp, harmonic_mean, median_low, median_high, geometric_mean = query_and_analyze_last_measurements(num_measurements)\n",
    "\n",
    "print(f\"Mean Temperature: {mean_temp}\")\n",
    "print(f\"Median Temperature: {median_temp}\")\n",
    "print(f\"Variance Temperature: {variance_temp}\")\n",
    "print(f\"Standard Deviation Temperature: {stdev_temp}\")\n",
    "print(f\"Harmonic Mean: {harmonic_mean}\")\n",
    "print(f\"Median Low: {median_low}\")\n",
    "print(f\"Median High: {median_high}\")\n",
    "print(f\"Geometric Mean: {geometric_mean}\")"
   ]
  }
 ],
 "metadata": {
  "kernelspec": {
   "display_name": "Python 3 (ipykernel)",
   "language": "python",
   "name": "python3"
  },
  "language_info": {
   "codemirror_mode": {
    "name": "ipython",
    "version": 3
   },
   "file_extension": ".py",
   "mimetype": "text/x-python",
   "name": "python",
   "nbconvert_exporter": "python",
   "pygments_lexer": "ipython3",
   "version": "3.12.7"
  }
 },
 "nbformat": 4,
 "nbformat_minor": 5
}
